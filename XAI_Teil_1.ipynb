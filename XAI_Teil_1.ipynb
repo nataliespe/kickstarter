{
 "cells": [
  {
   "cell_type": "markdown",
   "metadata": {},
   "source": [
    "# Vorhersage von Produkterfolg auf kickstarter\n",
    "\n"
   ]
  },
  {
   "cell_type": "code",
   "execution_count": 1,
   "metadata": {},
   "outputs": [],
   "source": [
    "#!pip install shap\n",
    "#anschließend Kernel neustarten und diese Zeile auskommentieren\n",
    "#"
   ]
  },
  {
   "cell_type": "code",
   "execution_count": 2,
   "metadata": {},
   "outputs": [],
   "source": [
    "# alle notwendigen Pakete werden geladen\n",
    "import pandas as pd\n",
    "import numpy as np\n",
    "from sklearn.model_selection import train_test_split\n",
    "import matplotlib.pyplot as plt\n",
    "import lightgbm\n",
    "import shap"
   ]
  },
  {
   "cell_type": "code",
   "execution_count": null,
   "metadata": {},
   "outputs": [],
   "source": []
  },
  {
   "cell_type": "code",
   "execution_count": null,
   "metadata": {},
   "outputs": [],
   "source": []
  },
  {
   "cell_type": "code",
   "execution_count": null,
   "metadata": {},
   "outputs": [],
   "source": []
  },
  {
   "cell_type": "code",
   "execution_count": null,
   "metadata": {},
   "outputs": [],
   "source": []
  },
  {
   "cell_type": "code",
   "execution_count": null,
   "metadata": {},
   "outputs": [],
   "source": []
  },
  {
   "cell_type": "code",
   "execution_count": 3,
   "metadata": {
    "hideCode": false,
    "hidePrompt": false
   },
   "outputs": [],
   "source": [
    "# Einlesen der Daten\n",
    "kickstarter = pd.read_csv(\"kickstarter_data.csv\")"
   ]
  },
  {
   "cell_type": "code",
   "execution_count": 4,
   "metadata": {
    "hideCode": false,
    "hidePrompt": false
   },
   "outputs": [
    {
     "data": {
      "text/html": [
       "<div>\n",
       "<style scoped>\n",
       "    .dataframe tbody tr th:only-of-type {\n",
       "        vertical-align: middle;\n",
       "    }\n",
       "\n",
       "    .dataframe tbody tr th {\n",
       "        vertical-align: top;\n",
       "    }\n",
       "\n",
       "    .dataframe thead th {\n",
       "        text-align: right;\n",
       "    }\n",
       "</style>\n",
       "<table border=\"1\" class=\"dataframe\">\n",
       "  <thead>\n",
       "    <tr style=\"text-align: right;\">\n",
       "      <th></th>\n",
       "      <th>ID</th>\n",
       "      <th>name</th>\n",
       "      <th>category</th>\n",
       "      <th>main_category</th>\n",
       "      <th>currency</th>\n",
       "      <th>deadline</th>\n",
       "      <th>goal</th>\n",
       "      <th>launched</th>\n",
       "      <th>pledged</th>\n",
       "      <th>state</th>\n",
       "      <th>backers</th>\n",
       "      <th>country</th>\n",
       "    </tr>\n",
       "  </thead>\n",
       "  <tbody>\n",
       "    <tr>\n",
       "      <th>0</th>\n",
       "      <td>1000002330</td>\n",
       "      <td>The Songs of Adelaide &amp; Abullah</td>\n",
       "      <td>Poetry</td>\n",
       "      <td>Publishing</td>\n",
       "      <td>GBP</td>\n",
       "      <td>2015-10-09</td>\n",
       "      <td>1000.0</td>\n",
       "      <td>2015-08-11 12:12:28</td>\n",
       "      <td>0.0</td>\n",
       "      <td>failed</td>\n",
       "      <td>0</td>\n",
       "      <td>GB</td>\n",
       "    </tr>\n",
       "    <tr>\n",
       "      <th>1</th>\n",
       "      <td>1000003930</td>\n",
       "      <td>Greeting From Earth: ZGAC Arts Capsule For ET</td>\n",
       "      <td>Narrative Film</td>\n",
       "      <td>Film &amp; Video</td>\n",
       "      <td>USD</td>\n",
       "      <td>2017-11-01</td>\n",
       "      <td>30000.0</td>\n",
       "      <td>2017-09-02 04:43:57</td>\n",
       "      <td>2421.0</td>\n",
       "      <td>failed</td>\n",
       "      <td>15</td>\n",
       "      <td>US</td>\n",
       "    </tr>\n",
       "    <tr>\n",
       "      <th>2</th>\n",
       "      <td>1000004038</td>\n",
       "      <td>Where is Hank?</td>\n",
       "      <td>Narrative Film</td>\n",
       "      <td>Film &amp; Video</td>\n",
       "      <td>USD</td>\n",
       "      <td>2013-02-26</td>\n",
       "      <td>45000.0</td>\n",
       "      <td>2013-01-12 00:20:50</td>\n",
       "      <td>220.0</td>\n",
       "      <td>failed</td>\n",
       "      <td>3</td>\n",
       "      <td>US</td>\n",
       "    </tr>\n",
       "    <tr>\n",
       "      <th>3</th>\n",
       "      <td>1000007540</td>\n",
       "      <td>ToshiCapital Rekordz Needs Help to Complete Album</td>\n",
       "      <td>Music</td>\n",
       "      <td>Music</td>\n",
       "      <td>USD</td>\n",
       "      <td>2012-04-16</td>\n",
       "      <td>5000.0</td>\n",
       "      <td>2012-03-17 03:24:11</td>\n",
       "      <td>1.0</td>\n",
       "      <td>failed</td>\n",
       "      <td>1</td>\n",
       "      <td>US</td>\n",
       "    </tr>\n",
       "    <tr>\n",
       "      <th>4</th>\n",
       "      <td>1000011046</td>\n",
       "      <td>Community Film Project: The Art of Neighborhoo...</td>\n",
       "      <td>Film &amp; Video</td>\n",
       "      <td>Film &amp; Video</td>\n",
       "      <td>USD</td>\n",
       "      <td>2015-08-29</td>\n",
       "      <td>19500.0</td>\n",
       "      <td>2015-07-04 08:35:03</td>\n",
       "      <td>1283.0</td>\n",
       "      <td>canceled</td>\n",
       "      <td>14</td>\n",
       "      <td>US</td>\n",
       "    </tr>\n",
       "  </tbody>\n",
       "</table>\n",
       "</div>"
      ],
      "text/plain": [
       "           ID                                               name  \\\n",
       "0  1000002330                    The Songs of Adelaide & Abullah   \n",
       "1  1000003930      Greeting From Earth: ZGAC Arts Capsule For ET   \n",
       "2  1000004038                                     Where is Hank?   \n",
       "3  1000007540  ToshiCapital Rekordz Needs Help to Complete Album   \n",
       "4  1000011046  Community Film Project: The Art of Neighborhoo...   \n",
       "\n",
       "         category main_category currency    deadline     goal  \\\n",
       "0          Poetry    Publishing      GBP  2015-10-09   1000.0   \n",
       "1  Narrative Film  Film & Video      USD  2017-11-01  30000.0   \n",
       "2  Narrative Film  Film & Video      USD  2013-02-26  45000.0   \n",
       "3           Music         Music      USD  2012-04-16   5000.0   \n",
       "4    Film & Video  Film & Video      USD  2015-08-29  19500.0   \n",
       "\n",
       "              launched  pledged     state  backers country  \n",
       "0  2015-08-11 12:12:28      0.0    failed        0      GB  \n",
       "1  2017-09-02 04:43:57   2421.0    failed       15      US  \n",
       "2  2013-01-12 00:20:50    220.0    failed        3      US  \n",
       "3  2012-03-17 03:24:11      1.0    failed        1      US  \n",
       "4  2015-07-04 08:35:03   1283.0  canceled       14      US  "
      ]
     },
     "execution_count": 4,
     "metadata": {},
     "output_type": "execute_result"
    }
   ],
   "source": [
    "# Anzeigen der ersten Zeilen des Datensatzes\n",
    "kickstarter.head()"
   ]
  },
  {
   "cell_type": "code",
   "execution_count": null,
   "metadata": {},
   "outputs": [],
   "source": []
  },
  {
   "cell_type": "code",
   "execution_count": null,
   "metadata": {},
   "outputs": [],
   "source": []
  },
  {
   "cell_type": "code",
   "execution_count": null,
   "metadata": {},
   "outputs": [],
   "source": []
  },
  {
   "cell_type": "code",
   "execution_count": null,
   "metadata": {},
   "outputs": [],
   "source": []
  },
  {
   "cell_type": "code",
   "execution_count": 5,
   "metadata": {
    "hideCode": false,
    "hidePrompt": false,
    "scrolled": true
   },
   "outputs": [
    {
     "data": {
      "text/plain": [
       "Index(['ID', 'name', 'category', 'main_category', 'currency', 'deadline',\n",
       "       'goal', 'launched', 'pledged', 'state', 'backers', 'country'],\n",
       "      dtype='object')"
      ]
     },
     "execution_count": 5,
     "metadata": {},
     "output_type": "execute_result"
    }
   ],
   "source": [
    "#Anzeigen der Spaltennamen des Datensatzes\n",
    "kickstarter.columns"
   ]
  },
  {
   "cell_type": "code",
   "execution_count": 6,
   "metadata": {
    "hideCode": false,
    "hidePrompt": false
   },
   "outputs": [
    {
     "data": {
      "text/plain": [
       "failed        197719\n",
       "successful    133956\n",
       "canceled       38779\n",
       "undefined       3562\n",
       "live            2799\n",
       "suspended       1846\n",
       "Name: state, dtype: int64"
      ]
     },
     "execution_count": 6,
     "metadata": {},
     "output_type": "execute_result"
    }
   ],
   "source": [
    "# wie häufig kommen die einzelnen Einträge aus State im Datensatz vor?\n",
    "kickstarter.state.value_counts()"
   ]
  },
  {
   "cell_type": "code",
   "execution_count": null,
   "metadata": {},
   "outputs": [],
   "source": []
  },
  {
   "cell_type": "code",
   "execution_count": null,
   "metadata": {},
   "outputs": [],
   "source": []
  },
  {
   "cell_type": "code",
   "execution_count": null,
   "metadata": {},
   "outputs": [],
   "source": []
  },
  {
   "cell_type": "code",
   "execution_count": null,
   "metadata": {},
   "outputs": [],
   "source": []
  },
  {
   "cell_type": "code",
   "execution_count": null,
   "metadata": {},
   "outputs": [],
   "source": []
  },
  {
   "cell_type": "markdown",
   "metadata": {
    "hideCode": false,
    "hidePrompt": false
   },
   "source": [
    "### die interessanten Einträge aus State sind failed und successful \\- alle anderen werden nicht mehr betrachtet\n",
    "\n"
   ]
  },
  {
   "cell_type": "code",
   "execution_count": 7,
   "metadata": {
    "hideCode": false,
    "hidePrompt": false
   },
   "outputs": [],
   "source": [
    "# behalte im Datensatz kickstarter nur die Einträge die entweder failed oder successful sind\n",
    "kickstarter = kickstarter[(kickstarter.state=='failed')|(kickstarter.state=='successful')]"
   ]
  },
  {
   "cell_type": "code",
   "execution_count": null,
   "metadata": {},
   "outputs": [],
   "source": []
  },
  {
   "cell_type": "code",
   "execution_count": null,
   "metadata": {},
   "outputs": [],
   "source": []
  },
  {
   "cell_type": "code",
   "execution_count": 8,
   "metadata": {
    "hideCode": false,
    "hidePrompt": false
   },
   "outputs": [
    {
     "data": {
      "text/plain": [
       "failed        197719\n",
       "successful    133956\n",
       "Name: state, dtype: int64"
      ]
     },
     "execution_count": 8,
     "metadata": {},
     "output_type": "execute_result"
    }
   ],
   "source": [
    "# wie häufig kommen NUN die einzelnen Einträge aus State im Datensatz vor?\n",
    "kickstarter.state.value_counts()"
   ]
  },
  {
   "cell_type": "code",
   "execution_count": 9,
   "metadata": {
    "hideCode": false,
    "hidePrompt": false
   },
   "outputs": [],
   "source": [
    "# ersetze in der Spalte State den Eintrag failed mit 0 und sucessful mit 1\n",
    "kickstarter[\"state\"] = kickstarter[\"state\"].replace({\"failed\": 0, \"successful\": 1})"
   ]
  },
  {
   "cell_type": "code",
   "execution_count": 10,
   "metadata": {},
   "outputs": [
    {
     "data": {
      "text/plain": [
       "(331675, 12)"
      ]
     },
     "execution_count": 10,
     "metadata": {},
     "output_type": "execute_result"
    }
   ],
   "source": [
    "# zeige die Form des Datensatzes: wie viele Zeilen und Spalten beinhaltet der Datensatz?\n",
    "kickstarter.shape"
   ]
  },
  {
   "cell_type": "code",
   "execution_count": null,
   "metadata": {},
   "outputs": [],
   "source": []
  },
  {
   "cell_type": "code",
   "execution_count": null,
   "metadata": {},
   "outputs": [],
   "source": []
  },
  {
   "cell_type": "code",
   "execution_count": null,
   "metadata": {},
   "outputs": [],
   "source": []
  },
  {
   "cell_type": "code",
   "execution_count": null,
   "metadata": {},
   "outputs": [],
   "source": []
  },
  {
   "cell_type": "code",
   "execution_count": null,
   "metadata": {},
   "outputs": [],
   "source": []
  },
  {
   "cell_type": "code",
   "execution_count": null,
   "metadata": {},
   "outputs": [],
   "source": []
  },
  {
   "cell_type": "code",
   "execution_count": null,
   "metadata": {},
   "outputs": [],
   "source": []
  },
  {
   "cell_type": "code",
   "execution_count": null,
   "metadata": {},
   "outputs": [],
   "source": []
  },
  {
   "cell_type": "markdown",
   "metadata": {
    "hideCode": false,
    "hidePrompt": false
   },
   "source": [
    "## erstes Machine Learning Modell "
   ]
  },
  {
   "cell_type": "code",
   "execution_count": 11,
   "metadata": {
    "hideCode": false,
    "hidePrompt": false
   },
   "outputs": [],
   "source": [
    "# definiere neuen Datensatz kickstarter_first, beinhaltet alle Spalten bis auf ID, name, pledged sum:\n",
    "kickstarter_first = kickstarter[\n",
    "    [\n",
    "        \"category\",\n",
    "        \"main_category\",\n",
    "        \"currency\",\n",
    "        \"deadline\",\n",
    "        \"goal\",\n",
    "        \"launched\",\n",
    "        \"backers\",\n",
    "        \"country\",\n",
    "        \"state\"\n",
    "\n",
    "    ]\n",
    "] "
   ]
  },
  {
   "cell_type": "code",
   "execution_count": null,
   "metadata": {},
   "outputs": [],
   "source": []
  },
  {
   "cell_type": "code",
   "execution_count": null,
   "metadata": {},
   "outputs": [],
   "source": []
  },
  {
   "cell_type": "code",
   "execution_count": null,
   "metadata": {},
   "outputs": [],
   "source": []
  },
  {
   "cell_type": "code",
   "execution_count": null,
   "metadata": {},
   "outputs": [],
   "source": []
  },
  {
   "cell_type": "code",
   "execution_count": null,
   "metadata": {},
   "outputs": [],
   "source": []
  },
  {
   "cell_type": "code",
   "execution_count": 12,
   "metadata": {
    "hideCode": false,
    "hidePrompt": false
   },
   "outputs": [],
   "source": [
    "# wir teilen nun den Datensatz, um das Machine Learning vorzubereiten\n",
    "# X beinhaltet alle Spalten die als potentielle Einflussfaktoren verwendet werden können.\n",
    "# Das sind aus dem kickstarter_first Datensatz alle Spalten bis auf die letzte.\n",
    "X = kickstarter_first[kickstarter_first.columns[:-1]].copy()"
   ]
  },
  {
   "cell_type": "code",
   "execution_count": 13,
   "metadata": {
    "hideCode": false,
    "hidePrompt": false
   },
   "outputs": [],
   "source": [
    "# y beinhaltet die Zielvariable, die vorhergesagt werden soll. \n",
    "# Hier also State. Das ist im kicktstarter_first Datensatz die letzte Spalte. \n",
    "y = kickstarter_first[kickstarter_first.columns[-1:]].copy()"
   ]
  },
  {
   "cell_type": "code",
   "execution_count": 14,
   "metadata": {},
   "outputs": [],
   "source": [
    "# LightGBM kann sehr gut mit Kategorien umgehen. Wir setzen deshalb alle Spalten, \n",
    "# deren Einträge als object verarbeitet werden als kategorielle Features\n",
    "categorical_features_indices = np.where(X.dtypes == object)[0]"
   ]
  },
  {
   "cell_type": "code",
   "execution_count": 15,
   "metadata": {},
   "outputs": [],
   "source": [
    "X.iloc[:,categorical_features_indices]=X.iloc[:,categorical_features_indices].astype('category')"
   ]
  },
  {
   "cell_type": "code",
   "execution_count": 16,
   "metadata": {},
   "outputs": [
    {
     "data": {
      "text/plain": [
       "category         category\n",
       "main_category    category\n",
       "currency         category\n",
       "deadline         category\n",
       "goal              float64\n",
       "launched         category\n",
       "backers             int64\n",
       "country          category\n",
       "dtype: object"
      ]
     },
     "execution_count": 16,
     "metadata": {},
     "output_type": "execute_result"
    }
   ],
   "source": [
    "# Anschauen welche verschiedenen Arten von Daten in X sind\n",
    "# integer = ganze Zahlen\n",
    "# float = Gleitkommazahlen\n",
    "# object = Eintrag wird nicht verarbeitet, bleibt so wie es ist (in unserem Fall Text)\n",
    "X.dtypes"
   ]
  },
  {
   "cell_type": "code",
   "execution_count": null,
   "metadata": {},
   "outputs": [],
   "source": []
  },
  {
   "cell_type": "code",
   "execution_count": null,
   "metadata": {},
   "outputs": [],
   "source": []
  },
  {
   "cell_type": "code",
   "execution_count": null,
   "metadata": {},
   "outputs": [],
   "source": []
  },
  {
   "cell_type": "code",
   "execution_count": null,
   "metadata": {},
   "outputs": [],
   "source": []
  },
  {
   "cell_type": "code",
   "execution_count": null,
   "metadata": {},
   "outputs": [],
   "source": []
  },
  {
   "cell_type": "code",
   "execution_count": null,
   "metadata": {},
   "outputs": [],
   "source": []
  },
  {
   "cell_type": "code",
   "execution_count": 17,
   "metadata": {
    "hideCode": false,
    "hidePrompt": false
   },
   "outputs": [],
   "source": [
    "# teile X und y in X_train, X_test, y_train und y_test\n",
    "# 10% des Datensatzes werden zu Test, 90% bleiben in Train und bilden damit die Grundlage fürs Machine Learning\n",
    "X_train, X_test, y_train, y_test = train_test_split(\n",
    "    X, y, test_size=0.1, random_state=42\n",
    ")"
   ]
  },
  {
   "cell_type": "code",
   "execution_count": null,
   "metadata": {},
   "outputs": [],
   "source": []
  },
  {
   "cell_type": "code",
   "execution_count": null,
   "metadata": {},
   "outputs": [],
   "source": []
  },
  {
   "cell_type": "code",
   "execution_count": null,
   "metadata": {},
   "outputs": [],
   "source": []
  },
  {
   "cell_type": "code",
   "execution_count": null,
   "metadata": {},
   "outputs": [],
   "source": []
  },
  {
   "cell_type": "code",
   "execution_count": null,
   "metadata": {},
   "outputs": [],
   "source": []
  },
  {
   "cell_type": "code",
   "execution_count": null,
   "metadata": {},
   "outputs": [],
   "source": []
  },
  {
   "cell_type": "markdown",
   "metadata": {},
   "source": [
    "# train model"
   ]
  },
  {
   "cell_type": "code",
   "execution_count": 18,
   "metadata": {},
   "outputs": [],
   "source": [
    "def accuracy(y_true, y_pred):\n",
    "    accuracy = np.sum(np.equal(y_true, np.round(y_pred))) / len(y_true)\n",
    "    return \"accuracy\", accuracy, False"
   ]
  },
  {
   "cell_type": "code",
   "execution_count": 23,
   "metadata": {},
   "outputs": [],
   "source": [
    "# Model wird initialisiert: wir nutzen als Algorithmus LightGbm\n",
    "# Randomisierung wird auf einen festen Wert gesetzt, damit wir bei jedem Durchgang dieselben Werte rauskriegen\n",
    "# die Güte des Modells wird mit Accuracy festgestellt\n",
    "model = lightgbm.LGBMClassifier(random_state=42, metric=\"accuracy\",n_estimators=200)"
   ]
  },
  {
   "cell_type": "code",
   "execution_count": 24,
   "metadata": {
    "scrolled": true
   },
   "outputs": [
    {
     "name": "stdout",
     "output_type": "stream",
     "text": [
      "[1]\tvalid_0's accuracy: 0.595363\n",
      "[2]\tvalid_0's accuracy: 0.861222\n",
      "[3]\tvalid_0's accuracy: 0.912717\n",
      "[4]\tvalid_0's accuracy: 0.919953\n",
      "[5]\tvalid_0's accuracy: 0.923722\n",
      "[6]\tvalid_0's accuracy: 0.924958\n",
      "[7]\tvalid_0's accuracy: 0.926013\n",
      "[8]\tvalid_0's accuracy: 0.926164\n",
      "[9]\tvalid_0's accuracy: 0.926194\n",
      "[10]\tvalid_0's accuracy: 0.926827\n",
      "[11]\tvalid_0's accuracy: 0.92737\n",
      "[12]\tvalid_0's accuracy: 0.927912\n",
      "[13]\tvalid_0's accuracy: 0.928877\n",
      "[14]\tvalid_0's accuracy: 0.929088\n",
      "[15]\tvalid_0's accuracy: 0.92948\n",
      "[16]\tvalid_0's accuracy: 0.929812\n",
      "[17]\tvalid_0's accuracy: 0.929812\n",
      "[18]\tvalid_0's accuracy: 0.930204\n",
      "[19]\tvalid_0's accuracy: 0.930415\n",
      "[20]\tvalid_0's accuracy: 0.930867\n",
      "[21]\tvalid_0's accuracy: 0.931862\n",
      "[22]\tvalid_0's accuracy: 0.932013\n",
      "[23]\tvalid_0's accuracy: 0.932073\n",
      "[24]\tvalid_0's accuracy: 0.931983\n",
      "[25]\tvalid_0's accuracy: 0.932344\n",
      "[26]\tvalid_0's accuracy: 0.932164\n",
      "[27]\tvalid_0's accuracy: 0.931952\n",
      "[28]\tvalid_0's accuracy: 0.932164\n",
      "[29]\tvalid_0's accuracy: 0.932133\n",
      "[30]\tvalid_0's accuracy: 0.932435\n",
      "[31]\tvalid_0's accuracy: 0.932586\n",
      "[32]\tvalid_0's accuracy: 0.932525\n",
      "[33]\tvalid_0's accuracy: 0.932616\n",
      "[34]\tvalid_0's accuracy: 0.932676\n",
      "[35]\tvalid_0's accuracy: 0.932616\n",
      "[36]\tvalid_0's accuracy: 0.932646\n",
      "[37]\tvalid_0's accuracy: 0.932857\n",
      "[38]\tvalid_0's accuracy: 0.932736\n",
      "[39]\tvalid_0's accuracy: 0.932887\n",
      "[40]\tvalid_0's accuracy: 0.932887\n",
      "[41]\tvalid_0's accuracy: 0.933008\n",
      "[42]\tvalid_0's accuracy: 0.933249\n",
      "[43]\tvalid_0's accuracy: 0.933098\n",
      "[44]\tvalid_0's accuracy: 0.93337\n",
      "[45]\tvalid_0's accuracy: 0.933671\n",
      "[46]\tvalid_0's accuracy: 0.933942\n",
      "[47]\tvalid_0's accuracy: 0.934003\n",
      "[48]\tvalid_0's accuracy: 0.933973\n",
      "[49]\tvalid_0's accuracy: 0.933882\n",
      "[50]\tvalid_0's accuracy: 0.934123\n",
      "[51]\tvalid_0's accuracy: 0.933973\n",
      "[52]\tvalid_0's accuracy: 0.934003\n",
      "[53]\tvalid_0's accuracy: 0.934003\n",
      "[54]\tvalid_0's accuracy: 0.934063\n",
      "[55]\tvalid_0's accuracy: 0.934184\n",
      "[56]\tvalid_0's accuracy: 0.934244\n",
      "[57]\tvalid_0's accuracy: 0.934274\n",
      "[58]\tvalid_0's accuracy: 0.934063\n",
      "[59]\tvalid_0's accuracy: 0.934093\n",
      "[60]\tvalid_0's accuracy: 0.934093\n",
      "[61]\tvalid_0's accuracy: 0.934033\n",
      "[62]\tvalid_0's accuracy: 0.934063\n",
      "[63]\tvalid_0's accuracy: 0.934003\n",
      "[64]\tvalid_0's accuracy: 0.933942\n",
      "[65]\tvalid_0's accuracy: 0.934003\n",
      "[66]\tvalid_0's accuracy: 0.934033\n",
      "[67]\tvalid_0's accuracy: 0.934123\n",
      "[68]\tvalid_0's accuracy: 0.934033\n",
      "[69]\tvalid_0's accuracy: 0.934184\n",
      "[70]\tvalid_0's accuracy: 0.934033\n",
      "[71]\tvalid_0's accuracy: 0.934063\n",
      "[72]\tvalid_0's accuracy: 0.934184\n",
      "[73]\tvalid_0's accuracy: 0.934033\n",
      "[74]\tvalid_0's accuracy: 0.933882\n",
      "[75]\tvalid_0's accuracy: 0.933611\n",
      "[76]\tvalid_0's accuracy: 0.933731\n",
      "[77]\tvalid_0's accuracy: 0.93355\n",
      "[78]\tvalid_0's accuracy: 0.93349\n",
      "[79]\tvalid_0's accuracy: 0.933731\n",
      "[80]\tvalid_0's accuracy: 0.933641\n",
      "[81]\tvalid_0's accuracy: 0.933701\n",
      "[82]\tvalid_0's accuracy: 0.933792\n",
      "[83]\tvalid_0's accuracy: 0.933792\n",
      "[84]\tvalid_0's accuracy: 0.933671\n",
      "[85]\tvalid_0's accuracy: 0.933611\n",
      "[86]\tvalid_0's accuracy: 0.93355\n",
      "[87]\tvalid_0's accuracy: 0.93349\n",
      "[88]\tvalid_0's accuracy: 0.93352\n",
      "[89]\tvalid_0's accuracy: 0.93355\n",
      "[90]\tvalid_0's accuracy: 0.93343\n",
      "[91]\tvalid_0's accuracy: 0.9334\n",
      "[92]\tvalid_0's accuracy: 0.93355\n",
      "[93]\tvalid_0's accuracy: 0.933611\n",
      "[94]\tvalid_0's accuracy: 0.93346\n",
      "[95]\tvalid_0's accuracy: 0.93355\n",
      "[96]\tvalid_0's accuracy: 0.93355\n",
      "[97]\tvalid_0's accuracy: 0.9334\n",
      "[98]\tvalid_0's accuracy: 0.933279\n",
      "[99]\tvalid_0's accuracy: 0.93337\n",
      "[100]\tvalid_0's accuracy: 0.933309\n",
      "[101]\tvalid_0's accuracy: 0.933279\n",
      "[102]\tvalid_0's accuracy: 0.933339\n",
      "[103]\tvalid_0's accuracy: 0.933189\n",
      "[104]\tvalid_0's accuracy: 0.933068\n",
      "[105]\tvalid_0's accuracy: 0.933008\n",
      "[106]\tvalid_0's accuracy: 0.933158\n",
      "[107]\tvalid_0's accuracy: 0.933189\n",
      "[108]\tvalid_0's accuracy: 0.933158\n",
      "[109]\tvalid_0's accuracy: 0.933038\n",
      "[110]\tvalid_0's accuracy: 0.933008\n",
      "[111]\tvalid_0's accuracy: 0.933038\n",
      "[112]\tvalid_0's accuracy: 0.933128\n",
      "[113]\tvalid_0's accuracy: 0.932917\n",
      "[114]\tvalid_0's accuracy: 0.932978\n",
      "[115]\tvalid_0's accuracy: 0.933038\n",
      "[116]\tvalid_0's accuracy: 0.932887\n",
      "[117]\tvalid_0's accuracy: 0.932947\n",
      "[118]\tvalid_0's accuracy: 0.933008\n",
      "[119]\tvalid_0's accuracy: 0.933128\n",
      "[120]\tvalid_0's accuracy: 0.933098\n",
      "[121]\tvalid_0's accuracy: 0.933219\n",
      "[122]\tvalid_0's accuracy: 0.933279\n",
      "[123]\tvalid_0's accuracy: 0.933128\n",
      "[124]\tvalid_0's accuracy: 0.933008\n",
      "[125]\tvalid_0's accuracy: 0.932857\n",
      "[126]\tvalid_0's accuracy: 0.932887\n",
      "[127]\tvalid_0's accuracy: 0.932947\n",
      "[128]\tvalid_0's accuracy: 0.933038\n",
      "[129]\tvalid_0's accuracy: 0.933068\n",
      "[130]\tvalid_0's accuracy: 0.933128\n",
      "[131]\tvalid_0's accuracy: 0.933068\n",
      "[132]\tvalid_0's accuracy: 0.932797\n",
      "[133]\tvalid_0's accuracy: 0.932616\n",
      "[134]\tvalid_0's accuracy: 0.932616\n",
      "[135]\tvalid_0's accuracy: 0.932706\n",
      "[136]\tvalid_0's accuracy: 0.932767\n",
      "[137]\tvalid_0's accuracy: 0.932736\n",
      "[138]\tvalid_0's accuracy: 0.932767\n",
      "[139]\tvalid_0's accuracy: 0.932887\n",
      "[140]\tvalid_0's accuracy: 0.932797\n",
      "[141]\tvalid_0's accuracy: 0.932827\n",
      "[142]\tvalid_0's accuracy: 0.932767\n",
      "[143]\tvalid_0's accuracy: 0.932616\n",
      "[144]\tvalid_0's accuracy: 0.932767\n",
      "[145]\tvalid_0's accuracy: 0.932827\n",
      "[146]\tvalid_0's accuracy: 0.932947\n",
      "[147]\tvalid_0's accuracy: 0.932827\n",
      "[148]\tvalid_0's accuracy: 0.932767\n",
      "[149]\tvalid_0's accuracy: 0.932857\n",
      "[150]\tvalid_0's accuracy: 0.932827\n",
      "[151]\tvalid_0's accuracy: 0.932887\n",
      "[152]\tvalid_0's accuracy: 0.932857\n",
      "[153]\tvalid_0's accuracy: 0.932887\n",
      "[154]\tvalid_0's accuracy: 0.932917\n",
      "[155]\tvalid_0's accuracy: 0.932917\n",
      "[156]\tvalid_0's accuracy: 0.932797\n",
      "[157]\tvalid_0's accuracy: 0.932887\n",
      "[158]\tvalid_0's accuracy: 0.932917\n",
      "[159]\tvalid_0's accuracy: 0.932917\n",
      "[160]\tvalid_0's accuracy: 0.932767\n",
      "[161]\tvalid_0's accuracy: 0.932767\n",
      "[162]\tvalid_0's accuracy: 0.932767\n",
      "[163]\tvalid_0's accuracy: 0.932736\n",
      "[164]\tvalid_0's accuracy: 0.932736\n",
      "[165]\tvalid_0's accuracy: 0.932797\n",
      "[166]\tvalid_0's accuracy: 0.932706\n",
      "[167]\tvalid_0's accuracy: 0.932616\n",
      "[168]\tvalid_0's accuracy: 0.932555\n",
      "[169]\tvalid_0's accuracy: 0.932465\n",
      "[170]\tvalid_0's accuracy: 0.932284\n",
      "[171]\tvalid_0's accuracy: 0.932254\n",
      "[172]\tvalid_0's accuracy: 0.932073\n",
      "[173]\tvalid_0's accuracy: 0.932043\n",
      "[174]\tvalid_0's accuracy: 0.931952\n",
      "[175]\tvalid_0's accuracy: 0.932073\n",
      "[176]\tvalid_0's accuracy: 0.932073\n",
      "[177]\tvalid_0's accuracy: 0.932103\n",
      "[178]\tvalid_0's accuracy: 0.932133\n",
      "[179]\tvalid_0's accuracy: 0.932133\n",
      "[180]\tvalid_0's accuracy: 0.932224\n",
      "[181]\tvalid_0's accuracy: 0.932254\n",
      "[182]\tvalid_0's accuracy: 0.932164\n",
      "[183]\tvalid_0's accuracy: 0.932254\n",
      "[184]\tvalid_0's accuracy: 0.932284\n",
      "[185]\tvalid_0's accuracy: 0.932194\n",
      "[186]\tvalid_0's accuracy: 0.932133\n",
      "[187]\tvalid_0's accuracy: 0.932103\n",
      "[188]\tvalid_0's accuracy: 0.932073\n",
      "[189]\tvalid_0's accuracy: 0.932013\n",
      "[190]\tvalid_0's accuracy: 0.931983\n",
      "[191]\tvalid_0's accuracy: 0.932043\n",
      "[192]\tvalid_0's accuracy: 0.931983\n",
      "[193]\tvalid_0's accuracy: 0.932043\n",
      "[194]\tvalid_0's accuracy: 0.932043\n",
      "[195]\tvalid_0's accuracy: 0.932073\n",
      "[196]\tvalid_0's accuracy: 0.932103\n",
      "[197]\tvalid_0's accuracy: 0.932103\n",
      "[198]\tvalid_0's accuracy: 0.932194\n",
      "[199]\tvalid_0's accuracy: 0.932133\n",
      "[200]\tvalid_0's accuracy: 0.932043\n"
     ]
    },
    {
     "data": {
      "text/plain": [
       "LGBMClassifier(boosting_type='gbdt', class_weight=None, colsample_bytree=1.0,\n",
       "               importance_type='split', learning_rate=0.1, max_depth=-1,\n",
       "               metric='accuracy', min_child_samples=20, min_child_weight=0.001,\n",
       "               min_split_gain=0.0, n_estimators=200, n_jobs=-1, num_leaves=31,\n",
       "               objective=None, random_state=42, reg_alpha=0.0, reg_lambda=0.0,\n",
       "               silent='warn', subsample=1.0, subsample_for_bin=200000,\n",
       "               subsample_freq=0)"
      ]
     },
     "execution_count": 24,
     "metadata": {},
     "output_type": "execute_result"
    }
   ],
   "source": [
    "# unsere Maschine lernt\n",
    "# das Modell wird gefittet. Die Grundlage für das Lernen sind X_train und y_train, \n",
    "# kategorielle Features werden festgelegt, als Evaluation dienen X_test und y_test\n",
    "# ravel ist eine Konvention von LightGBM (es wird bestimmte Form der Daten erwartet, ravel passt die Daten daran an)\n",
    "model.fit(\n",
    "    X_train, y_train.values.ravel(),\n",
    "    eval_set=[(X_test, y_test.values.ravel())],\n",
    "    eval_metric=accuracy)# je höher accuracy desto besser"
   ]
  },
  {
   "cell_type": "code",
   "execution_count": null,
   "metadata": {
    "hideCode": false,
    "hidePrompt": false
   },
   "outputs": [],
   "source": []
  },
  {
   "cell_type": "code",
   "execution_count": null,
   "metadata": {},
   "outputs": [],
   "source": []
  },
  {
   "cell_type": "code",
   "execution_count": null,
   "metadata": {},
   "outputs": [],
   "source": []
  },
  {
   "cell_type": "code",
   "execution_count": null,
   "metadata": {},
   "outputs": [],
   "source": []
  },
  {
   "cell_type": "code",
   "execution_count": 25,
   "metadata": {
    "hideCode": false,
    "hidePrompt": false
   },
   "outputs": [
    {
     "data": {
      "text/plain": [
       "0.9320429329474192"
      ]
     },
     "execution_count": 25,
     "metadata": {},
     "output_type": "execute_result"
    }
   ],
   "source": [
    "# der Model Score sagt uns wie gut unsere Vorhersagen sind. 1 ist perfekt\n",
    "# hier wird (voreingestellt) Accuracy verwendet\n",
    "model.score(X_test, y_test)  "
   ]
  },
  {
   "cell_type": "code",
   "execution_count": null,
   "metadata": {},
   "outputs": [],
   "source": []
  },
  {
   "cell_type": "code",
   "execution_count": null,
   "metadata": {},
   "outputs": [],
   "source": []
  },
  {
   "cell_type": "code",
   "execution_count": null,
   "metadata": {},
   "outputs": [],
   "source": []
  },
  {
   "cell_type": "code",
   "execution_count": 26,
   "metadata": {},
   "outputs": [],
   "source": [
    "# die Vorhersagen, die auf der Basis von X_test gebildet werden, werden unter predictions gespeichert\n",
    "predictions = model.predict(X_test)"
   ]
  },
  {
   "cell_type": "code",
   "execution_count": 27,
   "metadata": {},
   "outputs": [],
   "source": [
    "# Funktion, um Konfusionsmatrix zu erstellen\n",
    "def eval_crosstab(predictions, y_test=np.concatenate(y_test.values)):\n",
    "    return pd.crosstab(\n",
    "        index=y_test, columns=predictions, rownames=[\"reality\"], colnames=[\"prediction\"]\n",
    "    )"
   ]
  },
  {
   "cell_type": "code",
   "execution_count": 28,
   "metadata": {},
   "outputs": [
    {
     "data": {
      "text/html": [
       "<div>\n",
       "<style scoped>\n",
       "    .dataframe tbody tr th:only-of-type {\n",
       "        vertical-align: middle;\n",
       "    }\n",
       "\n",
       "    .dataframe tbody tr th {\n",
       "        vertical-align: top;\n",
       "    }\n",
       "\n",
       "    .dataframe thead th {\n",
       "        text-align: right;\n",
       "    }\n",
       "</style>\n",
       "<table border=\"1\" class=\"dataframe\">\n",
       "  <thead>\n",
       "    <tr style=\"text-align: right;\">\n",
       "      <th>prediction</th>\n",
       "      <th>0</th>\n",
       "      <th>1</th>\n",
       "    </tr>\n",
       "    <tr>\n",
       "      <th>reality</th>\n",
       "      <th></th>\n",
       "      <th></th>\n",
       "    </tr>\n",
       "  </thead>\n",
       "  <tbody>\n",
       "    <tr>\n",
       "      <th>0</th>\n",
       "      <td>18508</td>\n",
       "      <td>1239</td>\n",
       "    </tr>\n",
       "    <tr>\n",
       "      <th>1</th>\n",
       "      <td>1015</td>\n",
       "      <td>12406</td>\n",
       "    </tr>\n",
       "  </tbody>\n",
       "</table>\n",
       "</div>"
      ],
      "text/plain": [
       "prediction      0      1\n",
       "reality                 \n",
       "0           18508   1239\n",
       "1            1015  12406"
      ]
     },
     "execution_count": 28,
     "metadata": {},
     "output_type": "execute_result"
    }
   ],
   "source": [
    "# Funktion auf die predictions anwenden\n",
    "# Anschließend crosstab anzeigen\n",
    "crosstab = eval_crosstab(predictions)\n",
    "crosstab"
   ]
  },
  {
   "cell_type": "code",
   "execution_count": null,
   "metadata": {},
   "outputs": [],
   "source": []
  },
  {
   "cell_type": "code",
   "execution_count": null,
   "metadata": {},
   "outputs": [],
   "source": []
  },
  {
   "cell_type": "code",
   "execution_count": null,
   "metadata": {},
   "outputs": [],
   "source": []
  },
  {
   "cell_type": "code",
   "execution_count": null,
   "metadata": {},
   "outputs": [],
   "source": []
  },
  {
   "cell_type": "code",
   "execution_count": null,
   "metadata": {},
   "outputs": [],
   "source": []
  },
  {
   "cell_type": "code",
   "execution_count": null,
   "metadata": {},
   "outputs": [],
   "source": []
  },
  {
   "cell_type": "code",
   "execution_count": null,
   "metadata": {},
   "outputs": [],
   "source": []
  },
  {
   "cell_type": "markdown",
   "metadata": {},
   "source": [
    "## Erklärbarkeit"
   ]
  },
  {
   "cell_type": "code",
   "execution_count": 29,
   "metadata": {},
   "outputs": [
    {
     "name": "stderr",
     "output_type": "stream",
     "text": [
      "LightGBM binary classifier with TreeExplainer shap values output has changed to a list of ndarray\n"
     ]
    }
   ],
   "source": [
    "# Feststellen der Wichtigkeit der einzelnen Einflussfaktoren (Spalten) auf die Vorhersage\n",
    "# Explainer baut die Interpretationsmethoden für dieses Modell auf\n",
    "explainer = shap.TreeExplainer(model)\n",
    "# Shap gibt in der Standardeinstellung Multiklassen raus. \n",
    "# Wir nehmen hier die shap values ist unsere target Variable 1 geworden, also war das Kickstarter Projekt erfolgreich\n",
    "shap_values= explainer.shap_values(X_test)[1]\n",
    "# Mittelwert aller Vorhersagen. Zeigt später in der Visualisierung den Start der Gewichte an.\n",
    "expected_value = explainer.expected_value[0]"
   ]
  },
  {
   "cell_type": "code",
   "execution_count": 30,
   "metadata": {},
   "outputs": [
    {
     "data": {
      "image/png": "[encoded data removed]",
      "text/plain": [
       "<Figure size 576x338.4 with 1 Axes>"
      ]
     },
     "metadata": {
      "needs_background": "light"
     },
     "output_type": "display_data"
    }
   ],
   "source": [
    "# Anzeigen der Feature Importances \n",
    "shap.summary_plot(shap_values, X_test, plot_type = \"bar\")"
   ]
  },
  {
   "cell_type": "code",
   "execution_count": null,
   "metadata": {},
   "outputs": [],
   "source": []
  },
  {
   "cell_type": "code",
   "execution_count": null,
   "metadata": {},
   "outputs": [],
   "source": []
  },
  {
   "cell_type": "code",
   "execution_count": null,
   "metadata": {},
   "outputs": [],
   "source": []
  },
  {
   "cell_type": "code",
   "execution_count": null,
   "metadata": {},
   "outputs": [],
   "source": []
  },
  {
   "cell_type": "code",
   "execution_count": null,
   "metadata": {},
   "outputs": [],
   "source": []
  }
 ],
 "metadata": {
  "hide_code_all_hidden": false,
  "kernelspec": {
   "display_name": "Python 3",
   "language": "python",
   "name": "python3"
  },
  "language_info": {
   "codemirror_mode": {
    "name": "ipython",
    "version": 3
   },
   "file_extension": ".py",
   "mimetype": "text/x-python",
   "name": "python",
   "nbconvert_exporter": "python",
   "pygments_lexer": "ipython3",
   "version": "3.7.6"
  }
 },
 "nbformat": 4,
 "nbformat_minor": 4
}
